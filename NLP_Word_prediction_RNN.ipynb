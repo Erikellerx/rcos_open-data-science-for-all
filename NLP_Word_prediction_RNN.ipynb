{
  "nbformat": 4,
  "nbformat_minor": 0,
  "metadata": {
    "kernelspec": {
      "display_name": "Python 3",
      "language": "python",
      "name": "python3"
    },
    "language_info": {
      "codemirror_mode": {
        "name": "ipython",
        "version": 3
      },
      "file_extension": ".py",
      "mimetype": "text/x-python",
      "name": "python",
      "nbconvert_exporter": "python",
      "pygments_lexer": "ipython3",
      "version": "3.8.10"
    },
    "colab": {
      "name": "NLP_Word_prediction_RNN.ipynb",
      "provenance": [],
      "include_colab_link": true
    }
  },
  "cells": [
    {
      "cell_type": "markdown",
      "metadata": {
        "id": "view-in-github",
        "colab_type": "text"
      },
      "source": [
        "<a href=\"https://colab.research.google.com/github/Erikellerx/rcos_open-data-science-for-all/blob/main/NLP_Word_prediction_RNN.ipynb\" target=\"_parent\"><img src=\"https://colab.research.google.com/assets/colab-badge.svg\" alt=\"Open In Colab\"/></a>"
      ]
    },
    {
      "cell_type": "code",
      "metadata": {
        "scrolled": false,
        "id": "Hk7f690MsoWl"
      },
      "source": [
        "import tensorflow as tf\n",
        "from tensorflow.keras.preprocessing.text import Tokenizer\n",
        "from tensorflow.keras.layers import Embedding, LSTM, Dense, SimpleRNN \n",
        "from tensorflow.keras.models import Sequential\n",
        "from tensorflow.keras.utils import to_categorical\n",
        "from tensorflow.keras.optimizers import Adam\n",
        "import pickle\n",
        "import numpy as np\n",
        "import os"
      ],
      "execution_count": null,
      "outputs": []
    },
    {
      "cell_type": "markdown",
      "metadata": {
        "scrolled": true,
        "id": "trzWOlFQsoWl"
      },
      "source": [
        "# NLP\n",
        "This model is a simple demo on how to apply RNN into NLP. \n",
        "Overall, this program will predict next word based on the previous word and this model will give a general idea on how NLP works. "
      ]
    },
    {
      "cell_type": "markdown",
      "metadata": {
        "id": "aFDLMnmLsoWl"
      },
      "source": [
        "Check if your pc is supported with GPU. If not, CUDA and cuDNN are required to download"
      ]
    },
    {
      "cell_type": "code",
      "metadata": {
        "scrolled": true,
        "id": "1GOdoSZtsoWm",
        "colab": {
          "base_uri": "https://localhost:8080/"
        },
        "outputId": "c4826fdb-3e06-4c83-f7e2-f98ac74908e2"
      },
      "source": [
        "tf.config.list_physical_devices('GPU')"
      ],
      "execution_count": null,
      "outputs": [
        {
          "output_type": "execute_result",
          "data": {
            "text/plain": [
              "[]"
            ]
          },
          "metadata": {
            "tags": []
          },
          "execution_count": 2
        }
      ]
    },
    {
      "cell_type": "markdown",
      "metadata": {
        "id": "DAfdohN8soWm"
      },
      "source": [
        "# Getting the data\n",
        "We need data to perform our learning. In this case, I download a book from Project Gutenberg. "
      ]
    },
    {
      "cell_type": "code",
      "metadata": {
        "id": "AxMJ-YR_soWm",
        "colab": {
          "base_uri": "https://localhost:8080/"
        },
        "outputId": "f92f515c-53cc-4666-95cf-0761849d21cd"
      },
      "source": [
        "\n",
        "\n",
        "file = open(\"book.txt\", \"r\", encoding = \"utf8\")\n",
        "lines = []\n",
        "\n",
        "for i in file:\n",
        "    lines.append(i)\n",
        "    \n",
        "lines[:5]"
      ],
      "execution_count": null,
      "outputs": [
        {
          "output_type": "execute_result",
          "data": {
            "text/plain": [
              "['\\n',\n",
              " '\\n',\n",
              " \"A deep shudder shook Jay Wales. He wished now he hadn't had to come\\n\",\n",
              " 'back here to Earth this last time. He wanted to remember the old world\\n',\n",
              " 'of man as it had been, not as it was now in its dying hour.\\n']"
            ]
          },
          "metadata": {
            "tags": []
          },
          "execution_count": 3
        }
      ]
    },
    {
      "cell_type": "markdown",
      "metadata": {
        "id": "rLPNrds_soWn"
      },
      "source": [
        "# Preprocessing\n",
        "Clearning the data: Since there are some part that we don't want in our module such as \\n or (). We need to erase them before sending them into the model. "
      ]
    },
    {
      "cell_type": "code",
      "metadata": {
        "id": "PgbWHWa-soWn",
        "colab": {
          "base_uri": "https://localhost:8080/",
          "height": 52
        },
        "outputId": "649cc3f5-4a88-4163-9602-b7a8f3c4bacf"
      },
      "source": [
        "raw_data = \"\"\n",
        "for each in lines:\n",
        "    raw_data = ' '.join(lines)\n",
        "    \n",
        "raw_data = raw_data.replace('\\n', '').replace('\\r', '').replace('\\ufeff', '').replace('(','').replace(')','')\n",
        "raw_data[:500]    \n"
      ],
      "execution_count": null,
      "outputs": [
        {
          "output_type": "execute_result",
          "data": {
            "application/vnd.google.colaboratory.intrinsic+json": {
              "type": "string"
            },
            "text/plain": [
              "'  A deep shudder shook Jay Wales. He wished now he hadn\\'t had to come back here to Earth this last time. He wanted to remember the old world of man as it had been, not as it was now in its dying hour.  \"It seems impossible that it will really happen,\" said Hollenberg, the docket captain.  He wasn\\'t looking at Earth. He was looking beyond it at the glittering stars.  Wales looked too. He knew where to look. He saw the faint little spark of light far across the Solar System.  A spark, a pinpoint, '"
            ]
          },
          "metadata": {
            "tags": []
          },
          "execution_count": 4
        }
      ]
    },
    {
      "cell_type": "markdown",
      "metadata": {
        "id": "FdYLv4vUsoWn"
      },
      "source": [
        "# Tokenization\n",
        "This process is to help convert text into numerical sequences.\"tokenizer1.pk1\" is stored which help to convert back from numberical sequences to text after the prediction"
      ]
    },
    {
      "cell_type": "code",
      "metadata": {
        "id": "Vb2h30qmsoWo",
        "colab": {
          "base_uri": "https://localhost:8080/"
        },
        "outputId": "f4645d66-9b32-47eb-bb08-50ef45e2cb1a"
      },
      "source": [
        "tokenizer = Tokenizer()\n",
        "tokenizer.fit_on_texts([raw_data])\n",
        "\n",
        "pickle.dump(tokenizer, open('tokenizer1.pkl', 'wb'))\n",
        "\n",
        "sequence_data = tokenizer.texts_to_sequences([raw_data])[0]\n",
        "sequence_data[:20]"
      ],
      "execution_count": null,
      "outputs": [
        {
          "output_type": "execute_result",
          "data": {
            "text/plain": [
              "[6,\n",
              " 581,\n",
              " 1702,\n",
              " 437,\n",
              " 108,\n",
              " 11,\n",
              " 5,\n",
              " 1158,\n",
              " 31,\n",
              " 5,\n",
              " 330,\n",
              " 13,\n",
              " 4,\n",
              " 103,\n",
              " 46,\n",
              " 34,\n",
              " 4,\n",
              " 40,\n",
              " 32,\n",
              " 137]"
            ]
          },
          "metadata": {
            "tags": []
          },
          "execution_count": 5
        }
      ]
    },
    {
      "cell_type": "markdown",
      "metadata": {
        "id": "7I54ZeqFsoWo"
      },
      "source": [
        "Since we predict based on previous word. We need to bind connection between two word such as \"I\" and \"am\". "
      ]
    },
    {
      "cell_type": "code",
      "metadata": {
        "id": "xi1Q1O2GsoWo",
        "colab": {
          "base_uri": "https://localhost:8080/"
        },
        "outputId": "efec1ea2-6c4d-4e3b-cdfe-413a1e9e848d"
      },
      "source": [
        "vocab_size = len(tokenizer.word_index) + 1\n",
        "sequences = []\n",
        "\n",
        "for i in range(1, len(sequence_data)):\n",
        "    words = sequence_data[i-1:i+1]\n",
        "    sequences.append(words)\n",
        "    \n",
        "print(\"The Length of sequences are: \", len(sequences))\n",
        "sequences = np.array(sequences)\n",
        "\n",
        "print(vocab_size)\n",
        "sequences[:10]"
      ],
      "execution_count": null,
      "outputs": [
        {
          "output_type": "stream",
          "text": [
            "The Length of sequences are:  24212\n",
            "3468\n"
          ],
          "name": "stdout"
        },
        {
          "output_type": "execute_result",
          "data": {
            "text/plain": [
              "array([[   6,  581],\n",
              "       [ 581, 1702],\n",
              "       [1702,  437],\n",
              "       [ 437,  108],\n",
              "       [ 108,   11],\n",
              "       [  11,    5],\n",
              "       [   5, 1158],\n",
              "       [1158,   31],\n",
              "       [  31,    5],\n",
              "       [   5,  330]])"
            ]
          },
          "metadata": {
            "tags": []
          },
          "execution_count": 6
        }
      ]
    },
    {
      "cell_type": "code",
      "metadata": {
        "id": "Aeo134FTsoWo"
      },
      "source": [
        "Input = []\n",
        "Output = []\n",
        "\n",
        "for i in sequences:\n",
        "    Input.append(i[0])\n",
        "    Output.append(i[1])\n",
        "    \n",
        "Input = np.array(Input)\n",
        "Output = np.array(Output)"
      ],
      "execution_count": null,
      "outputs": []
    },
    {
      "cell_type": "code",
      "metadata": {
        "scrolled": true,
        "id": "yXqAXVsRsoWp",
        "colab": {
          "base_uri": "https://localhost:8080/"
        },
        "outputId": "c16b0e3c-d707-41a4-c1f9-31ff4b1c84cb"
      },
      "source": [
        "Output = to_categorical(Output, num_classes=vocab_size)\n",
        "Output[:5]"
      ],
      "execution_count": null,
      "outputs": [
        {
          "output_type": "execute_result",
          "data": {
            "text/plain": [
              "array([[0., 0., 0., ..., 0., 0., 0.],\n",
              "       [0., 0., 0., ..., 0., 0., 0.],\n",
              "       [0., 0., 0., ..., 0., 0., 0.],\n",
              "       [0., 0., 0., ..., 0., 0., 0.],\n",
              "       [0., 0., 0., ..., 0., 0., 0.]], dtype=float32)"
            ]
          },
          "metadata": {
            "tags": []
          },
          "execution_count": 8
        }
      ]
    },
    {
      "cell_type": "markdown",
      "metadata": {
        "id": "8YwU3GiusoWp"
      },
      "source": [
        "# Create the Model"
      ]
    },
    {
      "cell_type": "code",
      "metadata": {
        "scrolled": true,
        "id": "sReFDY5MsoWp",
        "colab": {
          "base_uri": "https://localhost:8080/"
        },
        "outputId": "0613f4a0-56cd-4cc4-d10d-312cec9a678b"
      },
      "source": [
        "model = Sequential()\n",
        "model.add(Embedding(vocab_size, 10, input_length=1))\n",
        "model.add(LSTM(50))\n",
        "model.add(Dense(vocab_size, activation=\"softmax\"))\n",
        "model.summary()"
      ],
      "execution_count": null,
      "outputs": [
        {
          "output_type": "stream",
          "text": [
            "Model: \"sequential\"\n",
            "_________________________________________________________________\n",
            "Layer (type)                 Output Shape              Param #   \n",
            "=================================================================\n",
            "embedding (Embedding)        (None, 1, 10)             34680     \n",
            "_________________________________________________________________\n",
            "lstm (LSTM)                  (None, 50)                12200     \n",
            "_________________________________________________________________\n",
            "dense (Dense)                (None, 3468)              176868    \n",
            "=================================================================\n",
            "Total params: 223,748\n",
            "Trainable params: 223,748\n",
            "Non-trainable params: 0\n",
            "_________________________________________________________________\n"
          ],
          "name": "stdout"
        }
      ]
    },
    {
      "cell_type": "code",
      "metadata": {
        "colab": {
          "base_uri": "https://localhost:8080/",
          "height": 369
        },
        "id": "VDNbShcF07nH",
        "outputId": "47e971a8-ba73-4aa8-90a3-87b2baad0630"
      },
      "source": [
        "\n",
        "from tensorflow import keras\n",
        "from keras.utils.vis_utils import plot_model\n",
        "\n",
        "keras.utils.plot_model(model, to_file='model.png', show_layer_names=True)"
      ],
      "execution_count": null,
      "outputs": [
        {
          "output_type": "execute_result",
          "data": {
            "image/png": "[encoded data removed]",
            "text/plain": [
              "<IPython.core.display.Image object>"
            ]
          },
          "metadata": {
            "tags": []
          },
          "execution_count": 10
        }
      ]
    },
    {
      "cell_type": "code",
      "metadata": {
        "id": "hdKAJtjgsoWp"
      },
      "source": [
        "from tensorflow.keras.callbacks import ModelCheckpoint\n",
        "from tensorflow.keras.callbacks import ReduceLROnPlateau\n",
        "from tensorflow.keras.callbacks import TensorBoard\n",
        "\n",
        "checkpoint = ModelCheckpoint(\"my_model.h5\", monitor='loss', verbose=1,\n",
        "    save_best_only=True, mode='auto')\n",
        "\n",
        "reduce = ReduceLROnPlateau(monitor='loss', factor=0.2, patience=3, min_lr=0.0001, verbose = 1)\n",
        "\n",
        "logdir='logsmy_model'\n",
        "tensorboard_Visualization = TensorBoard(log_dir=logdir)"
      ],
      "execution_count": null,
      "outputs": []
    },
    {
      "cell_type": "code",
      "metadata": {
        "id": "m5wbaEbGsoWp"
      },
      "source": [
        "model.compile(loss=\"categorical_crossentropy\", optimizer='adam',metrics=['acc'])"
      ],
      "execution_count": null,
      "outputs": []
    },
    {
      "cell_type": "code",
      "metadata": {
        "scrolled": true,
        "id": "oQ9JvxUvsoWq",
        "colab": {
          "base_uri": "https://localhost:8080/"
        },
        "outputId": "9cb9f2e9-4661-4d02-eba3-b69841a34b44"
      },
      "source": [
        "history = model.fit(Input, Output, epochs=20, batch_size=64, callbacks=[checkpoint, reduce, tensorboard_Visualization])"
      ],
      "execution_count": null,
      "outputs": [
        {
          "output_type": "stream",
          "text": [
            "Epoch 1/20\n",
            "379/379 [==============================] - 6s 10ms/step - loss: 7.2177 - acc: 0.0573\n",
            "\n",
            "Epoch 00001: loss improved from inf to 7.21768, saving model to my_model.h5\n",
            "Epoch 2/20\n",
            "379/379 [==============================] - 4s 10ms/step - loss: 6.3438 - acc: 0.0588\n",
            "\n",
            "Epoch 00002: loss improved from 7.21768 to 6.34381, saving model to my_model.h5\n",
            "Epoch 3/20\n",
            "379/379 [==============================] - 4s 10ms/step - loss: 6.2717 - acc: 0.0588\n",
            "\n",
            "Epoch 00003: loss improved from 6.34381 to 6.27174, saving model to my_model.h5\n",
            "Epoch 4/20\n",
            "379/379 [==============================] - 4s 10ms/step - loss: 6.2362 - acc: 0.0588\n",
            "\n",
            "Epoch 00004: loss improved from 6.27174 to 6.23620, saving model to my_model.h5\n",
            "Epoch 5/20\n",
            "379/379 [==============================] - 4s 10ms/step - loss: 6.2110 - acc: 0.0589\n",
            "\n",
            "Epoch 00005: loss improved from 6.23620 to 6.21095, saving model to my_model.h5\n",
            "Epoch 6/20\n",
            "379/379 [==============================] - 4s 10ms/step - loss: 6.1873 - acc: 0.0589\n",
            "\n",
            "Epoch 00006: loss improved from 6.21095 to 6.18734, saving model to my_model.h5\n",
            "Epoch 7/20\n",
            "379/379 [==============================] - 4s 10ms/step - loss: 6.1541 - acc: 0.0595\n",
            "\n",
            "Epoch 00007: loss improved from 6.18734 to 6.15414, saving model to my_model.h5\n",
            "Epoch 8/20\n",
            "379/379 [==============================] - 4s 10ms/step - loss: 6.0876 - acc: 0.0605\n",
            "\n",
            "Epoch 00008: loss improved from 6.15414 to 6.08758, saving model to my_model.h5\n",
            "Epoch 9/20\n",
            "379/379 [==============================] - 4s 10ms/step - loss: 6.0137 - acc: 0.0638\n",
            "\n",
            "Epoch 00009: loss improved from 6.08758 to 6.01371, saving model to my_model.h5\n",
            "Epoch 10/20\n",
            "379/379 [==============================] - 4s 10ms/step - loss: 5.9341 - acc: 0.0718\n",
            "\n",
            "Epoch 00010: loss improved from 6.01371 to 5.93415, saving model to my_model.h5\n",
            "Epoch 11/20\n",
            "379/379 [==============================] - 4s 10ms/step - loss: 5.8357 - acc: 0.0859\n",
            "\n",
            "Epoch 00011: loss improved from 5.93415 to 5.83567, saving model to my_model.h5\n",
            "Epoch 12/20\n",
            "379/379 [==============================] - 4s 10ms/step - loss: 5.7240 - acc: 0.0947\n",
            "\n",
            "Epoch 00012: loss improved from 5.83567 to 5.72400, saving model to my_model.h5\n",
            "Epoch 13/20\n",
            "379/379 [==============================] - 4s 10ms/step - loss: 5.6249 - acc: 0.1021\n",
            "\n",
            "Epoch 00013: loss improved from 5.72400 to 5.62486, saving model to my_model.h5\n",
            "Epoch 14/20\n",
            "379/379 [==============================] - 4s 10ms/step - loss: 5.5384 - acc: 0.1104\n",
            "\n",
            "Epoch 00014: loss improved from 5.62486 to 5.53843, saving model to my_model.h5\n",
            "Epoch 15/20\n",
            "379/379 [==============================] - 4s 10ms/step - loss: 5.4603 - acc: 0.1179\n",
            "\n",
            "Epoch 00015: loss improved from 5.53843 to 5.46031, saving model to my_model.h5\n",
            "Epoch 16/20\n",
            "379/379 [==============================] - 4s 11ms/step - loss: 5.3892 - acc: 0.1214\n",
            "\n",
            "Epoch 00016: loss improved from 5.46031 to 5.38922, saving model to my_model.h5\n",
            "Epoch 17/20\n",
            "379/379 [==============================] - 4s 10ms/step - loss: 5.3227 - acc: 0.1274\n",
            "\n",
            "Epoch 00017: loss improved from 5.38922 to 5.32274, saving model to my_model.h5\n",
            "Epoch 18/20\n",
            "379/379 [==============================] - 4s 11ms/step - loss: 5.2625 - acc: 0.1295\n",
            "\n",
            "Epoch 00018: loss improved from 5.32274 to 5.26254, saving model to my_model.h5\n",
            "Epoch 19/20\n",
            "379/379 [==============================] - 4s 10ms/step - loss: 5.2051 - acc: 0.1331\n",
            "\n",
            "Epoch 00019: loss improved from 5.26254 to 5.20513, saving model to my_model.h5\n",
            "Epoch 20/20\n",
            "379/379 [==============================] - 4s 10ms/step - loss: 5.1510 - acc: 0.1384\n",
            "\n",
            "Epoch 00020: loss improved from 5.20513 to 5.15096, saving model to my_model.h5\n"
          ],
          "name": "stdout"
        }
      ]
    },
    {
      "cell_type": "code",
      "metadata": {
        "id": "l0GeD6o1soWq",
        "colab": {
          "base_uri": "https://localhost:8080/",
          "height": 545
        },
        "outputId": "c036f264-d488-49f0-a39f-948b63654f1f"
      },
      "source": [
        "import matplotlib.pyplot as plt\n",
        "acc = history.history['acc']\n",
        "\n",
        "loss = history.history['loss']\n",
        "\n",
        "epochs = range(1, len(acc) + 1)\n",
        "plt.plot(epochs, acc, 'bo', label='Training acc')\n",
        "\n",
        "plt.title('Training accuracy')\n",
        "plt.legend()\n",
        "plt.figure()\n",
        "plt.plot(epochs, loss, 'bo', label='Training loss')\n",
        "\n",
        "plt.title('Training loss')\n",
        "plt.legend()\n",
        "plt.show()"
      ],
      "execution_count": null,
      "outputs": [
        {
          "output_type": "display_data",
          "data": {
            "image/png": "[encoded data removed]",
            "text/plain": [
              "<Figure size 432x288 with 1 Axes>"
            ]
          },
          "metadata": {
            "tags": [],
            "needs_background": "light"
          }
        },
        {
          "output_type": "display_data",
          "data": {
            "image/png": "[encoded data removed]",
            "text/plain": [
              "<Figure size 432x288 with 1 Axes>"
            ]
          },
          "metadata": {
            "tags": [],
            "needs_background": "light"
          }
        }
      ]
    },
    {
      "cell_type": "markdown",
      "metadata": {
        "id": "I3LXdYfWsoWq"
      },
      "source": [
        "# Scripts\n",
        "A small example on how to use the model. "
      ]
    },
    {
      "cell_type": "code",
      "metadata": {
        "scrolled": true,
        "id": "KRjwL6jZsoWq"
      },
      "source": [
        "from tensorflow.keras.models import load_model\n",
        "import numpy as np\n",
        "import pickle\n",
        "\n",
        "# Load the model and tokenizer\n",
        "\n",
        "model = load_model('my_model.h5')\n",
        "tokenizer = pickle.load(open('tokenizer1.pkl', 'rb'))\n",
        "\n",
        "def Predict_Next_Words(model, tokenizer, text):\n",
        "\n",
        "    sequence = tokenizer.texts_to_sequences([text])[0]\n",
        "    sequence = np.array(sequence)\n",
        "    \n",
        "\n",
        "    preds = model.predict_classes(sequence,batch_size=3)\n",
        "    predicted_word = \"\"\n",
        "\n",
        "    for key, value in tokenizer.word_index.items():\n",
        "        if value == preds:\n",
        "            predicted_word += key\n",
        "            \n",
        "\n",
        "    \n",
        "    return predicted_word\n",
        "\n",
        "\n"
      ],
      "execution_count": null,
      "outputs": []
    },
    {
      "cell_type": "code",
      "metadata": {
        "scrolled": true,
        "id": "iX1t6xRYsoWq",
        "colab": {
          "base_uri": "https://localhost:8080/"
        },
        "outputId": "c268cad4-b9a4-445b-9150-f6f82ea136da"
      },
      "source": [
        "while(True):\n",
        "\n",
        "    text = input(\"Enter your input: \")\n",
        "    \n",
        "    if text == \"stop\":\n",
        "        print(\"Bye\")\n",
        "        break\n",
        "    \n",
        "    else:\n",
        "        try:\n",
        "            print(Predict_Next_Words(model, tokenizer, text))\n",
        "        except:\n",
        "            continue\n"
      ],
      "execution_count": null,
      "outputs": [
        {
          "output_type": "stream",
          "text": [
            "Enter your input: We\n"
          ],
          "name": "stdout"
        },
        {
          "output_type": "stream",
          "text": [
            "/usr/local/lib/python3.7/dist-packages/tensorflow/python/keras/engine/sequential.py:455: UserWarning: `model.predict_classes()` is deprecated and will be removed after 2021-01-01. Please use instead:* `np.argmax(model.predict(x), axis=-1)`,   if your model does multi-class classification   (e.g. if it uses a `softmax` last-layer activation).* `(model.predict(x) > 0.5).astype(\"int32\")`,   if your model does binary classification   (e.g. if it uses a `sigmoid` last-layer activation).\n",
            "  warnings.warn('`model.predict_classes()` is deprecated and '\n"
          ],
          "name": "stderr"
        },
        {
          "output_type": "stream",
          "text": [
            "know\n",
            "Enter your input: because\n",
            "of\n",
            "Enter your input: stop\n",
            "Bye\n"
          ],
          "name": "stdout"
        }
      ]
    },
    {
      "cell_type": "code",
      "metadata": {
        "id": "l9UN4m-6soWr"
      },
      "source": [
        ""
      ],
      "execution_count": null,
      "outputs": []
    },
    {
      "cell_type": "code",
      "metadata": {
        "id": "Pti6X5U-soWr"
      },
      "source": [
        ""
      ],
      "execution_count": null,
      "outputs": []
    },
    {
      "cell_type": "code",
      "metadata": {
        "id": "K8Ms6sqfsoWr"
      },
      "source": [
        ""
      ],
      "execution_count": null,
      "outputs": []
    }
  ]
}